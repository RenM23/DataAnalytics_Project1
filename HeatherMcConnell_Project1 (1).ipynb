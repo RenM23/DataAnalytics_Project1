{
 "cells": [
  {
   "cell_type": "code",
   "execution_count": 5,
   "id": "21c97c86-3d51-4eda-9f4c-85f2899d8616",
   "metadata": {},
   "outputs": [],
   "source": [
    "import pandas as pd\n",
    "from matplotlib import pyplot as plt\n",
    "import numpy as np"
   ]
  },
  {
   "cell_type": "code",
   "execution_count": null,
   "id": "eb5fb3ff-2d13-4dae-badf-1cda7b61fe01",
   "metadata": {},
   "outputs": [],
   "source": [
    "#GetHub url\n",
    "# https://github.com/RenM23/COMP3800_Project1/tree/main"
   ]
  },
  {
   "cell_type": "code",
   "execution_count": null,
   "id": "0e7b6f40-73ae-4f49-af17-d6d4abb1ee13",
   "metadata": {},
   "outputs": [],
   "source": [
    "#The aim of this project is to discover if there is a correlation between states with high population densities and an increase\n",
    "#in air pollution. The data will be analyzed by comparing air pollution index per state population. Further investigation will\n",
    "#be conducted to determine if states with high population saw an increase in pollution over time. This investigation will determine \n",
    "#if there is a significant correlation between high population states and air pollution."
   ]
  },
  {
   "cell_type": "code",
   "execution_count": 7,
   "id": "c8f30b1c-e56b-4ce8-9e2d-f5f0c7c4697c",
   "metadata": {},
   "outputs": [
    {
     "name": "stdout",
     "output_type": "stream",
     "text": [
      "   MeasureId                                        MeasureName MeasureType  \\\n",
      "0         83  Number of days with maximum 8-hour average ozo...      Counts   \n",
      "1         83  Number of days with maximum 8-hour average ozo...      Counts   \n",
      "2         83  Number of days with maximum 8-hour average ozo...      Counts   \n",
      "3         83  Number of days with maximum 8-hour average ozo...      Counts   \n",
      "4         83  Number of days with maximum 8-hour average ozo...      Counts   \n",
      "\n",
      "  StratificationLevel  StateFips StateName  CountyFips CountyName  ReportYear  \\\n",
      "0      State x County          1   Alabama        1027       Clay        1999   \n",
      "1      State x County          1   Alabama        1051     Elmore        1999   \n",
      "2      State x County          1   Alabama        1073  Jefferson        1999   \n",
      "3      State x County          1   Alabama        1079   Lawrence        1999   \n",
      "4      State x County          1   Alabama        1089    Madison        1999   \n",
      "\n",
      "   Value      Unit  UnitName    DataOrigin  MonitorOnly  \n",
      "0   33.0  No Units  No Units  Monitor Only            1  \n",
      "1    5.0  No Units  No Units  Monitor Only            1  \n",
      "2   39.0  No Units  No Units  Monitor Only            1  \n",
      "3   28.0  No Units  No Units  Monitor Only            1  \n",
      "4   31.0  No Units  No Units  Monitor Only            1  \n"
     ]
    }
   ],
   "source": [
    "df = pd.read_csv('Air_Quality_Measures_on_the_National_Environmental_Health_Tracking_Network.csv')\n",
    "print(df.head())"
   ]
  },
  {
   "cell_type": "code",
   "execution_count": 9,
   "id": "15852671-61ae-46b1-9a4f-c680fff26684",
   "metadata": {},
   "outputs": [
    {
     "name": "stdout",
     "output_type": "stream",
     "text": [
      "(218635, 14)\n"
     ]
    }
   ],
   "source": [
    "print(df.shape)"
   ]
  },
  {
   "cell_type": "code",
   "execution_count": 11,
   "id": "e095b125-abab-4685-844f-b2f19175ea7f",
   "metadata": {},
   "outputs": [
    {
     "name": "stdout",
     "output_type": "stream",
     "text": [
      "['MeasureId', 'MeasureName', 'MeasureType', 'StratificationLevel', 'StateFips', 'StateName', 'CountyFips', 'CountyName', 'ReportYear', 'Value', 'Unit', 'UnitName', 'DataOrigin', 'MonitorOnly']\n"
     ]
    }
   ],
   "source": [
    "#View Column names\n",
    "print(df.columns.tolist())"
   ]
  },
  {
   "cell_type": "code",
   "execution_count": 13,
   "id": "bbc2845d-e3a5-4247-b6b0-9a8a2988cc4d",
   "metadata": {},
   "outputs": [
    {
     "name": "stdout",
     "output_type": "stream",
     "text": [
      "1084153095.0\n"
     ]
    }
   ],
   "source": [
    "#View the highest values\n",
    "print(df['Value'].max())"
   ]
  },
  {
   "cell_type": "code",
   "execution_count": 15,
   "id": "cd2449d4-127e-4b2d-8075-b944872ccf8a",
   "metadata": {},
   "outputs": [
    {
     "name": "stdout",
     "output_type": "stream",
     "text": [
      "            Value      Unit StateName  ReportYear\n",
      "0       33.000000  No Units   Alabama        1999\n",
      "1        5.000000  No Units   Alabama        1999\n",
      "2       39.000000  No Units   Alabama        1999\n",
      "3       28.000000  No Units   Alabama        1999\n",
      "4       31.000000  No Units   Alabama        1999\n",
      "...           ...       ...       ...         ...\n",
      "218630   6.207126     µg/m³   Wyoming        2007\n",
      "218631   6.369764     µg/m³   Wyoming        2008\n",
      "218632   6.241708     µg/m³   Wyoming        2009\n",
      "218633   6.125957     µg/m³   Wyoming        2010\n",
      "218634   6.646464     µg/m³   Wyoming        2011\n",
      "\n",
      "[126086 rows x 4 columns]\n"
     ]
    }
   ],
   "source": [
    "#View columns details\n",
    "df_view = df.groupby(['Value','Unit', 'StateName', 'ReportYear'])\n",
    "\n",
    "#Select only desired columns\n",
    "df_view_filtered = df_view[['Value','Unit', 'StateName', 'ReportYear']]\n",
    "\n",
    "print(df_view_filtered.head(6))"
   ]
  },
  {
   "cell_type": "code",
   "execution_count": 17,
   "id": "ff0dfc44-fd18-4135-a209-2f206e851d86",
   "metadata": {},
   "outputs": [
    {
     "name": "stdout",
     "output_type": "stream",
     "text": [
      "       MeasureId                                        MeasureName  \\\n",
      "5759          84  Number of person-days with maximum 8-hour aver...   \n",
      "83766        293  Number of person-days with maximum 8-hour aver...   \n",
      "34298         86  Person-days with PM2.5 over the National Ambie...   \n",
      "4413          84  Number of person-days with maximum 8-hour aver...   \n",
      "83765        293  Number of person-days with maximum 8-hour aver...   \n",
      "\n",
      "      MeasureType StratificationLevel  StateFips   StateName  CountyFips  \\\n",
      "5759       Counts      State x County          6  California        6037   \n",
      "83766      Counts      State x County          6  California        6037   \n",
      "34298      Counts      State x County          6  California        6037   \n",
      "4413       Counts      State x County          6  California        6037   \n",
      "83765      Counts      State x County          6  California        6037   \n",
      "\n",
      "        CountyName  ReportYear         Value      Unit  UnitName  \\\n",
      "5759   Los Angeles        2003  1.084153e+09  No Units  No Units   \n",
      "83766  Los Angeles        2003  1.084153e+09  No Units  No Units   \n",
      "34298  Los Angeles        1999  1.026965e+09  No Units  No Units   \n",
      "4413   Los Angeles        2002  9.997090e+08  No Units  No Units   \n",
      "83765  Los Angeles        2002  9.997090e+08  No Units  No Units   \n",
      "\n",
      "         DataOrigin  MonitorOnly  \n",
      "5759   Monitor Only            1  \n",
      "83766  Monitor Only            1  \n",
      "34298  Monitor Only            1  \n",
      "4413   Monitor Only            1  \n",
      "83765  Monitor Only            1  \n"
     ]
    }
   ],
   "source": [
    "#Sort dataframe by State, MeasureType, UnitName and Value descending\n",
    "df_sorted = df.sort_values(by=['Value', 'StateName'], ascending=[False, True])\n",
    "\n",
    "print(df_sorted.head(5))"
   ]
  },
  {
   "cell_type": "code",
   "execution_count": 19,
   "id": "a442a58a-e949-472b-9c1a-7d2d4f792410",
   "metadata": {},
   "outputs": [
    {
     "name": "stdout",
     "output_type": "stream",
     "text": [
      "               Value      Unit   StateName  ReportYear\n",
      "5759    1.084153e+09  No Units  California        2003\n",
      "83766   1.084153e+09  No Units  California        2003\n",
      "34298   1.026965e+09  No Units  California        1999\n",
      "4413    9.997090e+08  No Units  California        2002\n",
      "83765   9.997090e+08  No Units  California        2002\n",
      "...              ...       ...         ...         ...\n",
      "37410   0.000000e+00  No Units     Wyoming        1999\n",
      "37469   0.000000e+00  No Units     Wyoming        1999\n",
      "149624  0.000000e+00         %     Wyoming        2004\n",
      "149713  0.000000e+00         %     Wyoming        2005\n",
      "149986  0.000000e+00         %     Wyoming        2001\n",
      "\n",
      "[122875 rows x 4 columns]\n"
     ]
    }
   ],
   "source": [
    "#Group by Value, Unit, StateName, ReportYear\n",
    "df_categories = df_sorted.groupby(['Value','Unit', 'StateName', 'ReportYear'])\n",
    "\n",
    "#Drop unwanted features\n",
    "df_categories = df_categories[['Value','Unit', 'StateName', 'ReportYear']]\n",
    "\n",
    "print(df_categories.head(5))"
   ]
  },
  {
   "cell_type": "code",
   "execution_count": 45,
   "id": "950de725-80a6-4435-864e-b91c234d8a12",
   "metadata": {},
   "outputs": [
    {
     "name": "stdout",
     "output_type": "stream",
     "text": [
      "Missing values: \n",
      " MeasureId              0\n",
      "MeasureName            0\n",
      "MeasureType            0\n",
      "StratificationLevel    0\n",
      "StateFips              0\n",
      "StateName              0\n",
      "CountyFips             0\n",
      "CountyName             0\n",
      "ReportYear             0\n",
      "Value                  0\n",
      "Unit                   0\n",
      "UnitName               0\n",
      "DataOrigin             0\n",
      "MonitorOnly            0\n",
      "dtype: int64\n"
     ]
    }
   ],
   "source": [
    "#Check for missing values\n",
    "missing_values = df_categories.isnull().sum()\n",
    "print (\"Missing values: \\n\", missing_values)"
   ]
  },
  {
   "cell_type": "code",
   "execution_count": 47,
   "id": "f07d7043-b4b5-4249-9ff7-14da2e7d0e5f",
   "metadata": {},
   "outputs": [
    {
     "name": "stdout",
     "output_type": "stream",
     "text": [
      "Number of duplicated rows:  0\n"
     ]
    }
   ],
   "source": [
    "#Check for duplicates\n",
    "duplicates =df_categories.duplicated().sum()\n",
    "print(\"Number of duplicated rows: \", duplicates)"
   ]
  },
  {
   "cell_type": "code",
   "execution_count": 29,
   "id": "ec5e9a81-ec51-4383-aa51-bf4818e59971",
   "metadata": {},
   "outputs": [
    {
     "name": "stdout",
     "output_type": "stream",
     "text": [
      "       MeasureId                                        MeasureName  \\\n",
      "5759          84  Number of person-days with maximum 8-hour aver...   \n",
      "83766        293  Number of person-days with maximum 8-hour aver...   \n",
      "34298         86  Person-days with PM2.5 over the National Ambie...   \n",
      "4413          84  Number of person-days with maximum 8-hour aver...   \n",
      "83765        293  Number of person-days with maximum 8-hour aver...   \n",
      "\n",
      "      MeasureType StratificationLevel  StateFips   StateName  CountyFips  \\\n",
      "5759       Counts      State x County          6  California        6037   \n",
      "83766      Counts      State x County          6  California        6037   \n",
      "34298      Counts      State x County          6  California        6037   \n",
      "4413       Counts      State x County          6  California        6037   \n",
      "83765      Counts      State x County          6  California        6037   \n",
      "\n",
      "        CountyName  ReportYear       Value      Unit  UnitName    DataOrigin  \\\n",
      "5759   Los Angeles        2003  17279178.3  No Units  No Units  Monitor Only   \n",
      "83766  Los Angeles        2003  17279178.3  No Units  No Units  Monitor Only   \n",
      "34298  Los Angeles        1999  17279178.3  No Units  No Units  Monitor Only   \n",
      "4413   Los Angeles        2002  17279178.3  No Units  No Units  Monitor Only   \n",
      "83765  Los Angeles        2002  17279178.3  No Units  No Units  Monitor Only   \n",
      "\n",
      "       MonitorOnly  \n",
      "5759             1  \n",
      "83766            1  \n",
      "34298            1  \n",
      "4413             1  \n",
      "83765            1  \n"
     ]
    }
   ],
   "source": [
    "#Check for outliers\n",
    "upper_limit = df_categories['Value'].quantile(0.99)\n",
    "df_categories.loc[df_categories['Value'] > upper_limit, 'Value'] = upper_limit\n",
    "print(df_categories.head())"
   ]
  },
  {
   "cell_type": "code",
   "execution_count": 31,
   "id": "a1777c8b-eaba-492b-a8a0-e87bf1d2b3bc",
   "metadata": {},
   "outputs": [],
   "source": [
    "#Create a bar graph of the Top 5 States with the Highest Values of pollution \n",
    "state_values = df_categories.groupby('StateName')['Value'].sum().sort_values(ascending=False)\n",
    "\n",
    "top_5_states = state_values.head(5)\n"
   ]
  },
  {
   "cell_type": "code",
   "execution_count": 33,
   "id": "741a652a-294f-495e-9b57-3d2928eb155e",
   "metadata": {},
   "outputs": [
    {
     "data": {
      "image/png": "[encoded data removed]",
      "text/plain": [
       "<Figure size 1000x600 with 1 Axes>"
      ]
     },
     "metadata": {},
     "output_type": "display_data"
    }
   ],
   "source": [
    "#Plot graph\n",
    "plt.figure(figsize=(10,6))\n",
    "top_5_states.plot(kind='bar', color='skyblue')\n",
    "plt.title('Total Air Quality Values for Top 5 States')\n",
    "plt.xlabel('State')\n",
    "plt.ylabel('Total Value')\n",
    "plt.xticks(rotation=45, ha='right')\n",
    "plt.tight_layout()\n",
    "plt.show()"
   ]
  },
  {
   "cell_type": "code",
   "execution_count": null,
   "id": "2517c51c-7367-4462-bf3a-2ced4813b86c",
   "metadata": {},
   "outputs": [],
   "source": [
    "#Summary\n",
    "#This dataset describes air pollution by state and county. Although my research is able to visually show the states with the highest\n",
    "#pollution, my findings did not reveal a population correllation. This dataset does not contain population data.  "
   ]
  }
 ],
 "metadata": {
  "kernelspec": {
   "display_name": "Python 3 (ipykernel)",
   "language": "python",
   "name": "python3"
  },
  "language_info": {
   "codemirror_mode": {
    "name": "ipython",
    "version": 3
   },
   "file_extension": ".py",
   "mimetype": "text/x-python",
   "name": "python",
   "nbconvert_exporter": "python",
   "pygments_lexer": "ipython3",
   "version": "3.12.4"
  }
 },
 "nbformat": 4,
 "nbformat_minor": 5
}

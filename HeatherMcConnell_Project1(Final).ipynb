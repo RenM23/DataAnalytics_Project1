{
 "cells": [
  {
   "cell_type": "code",
   "execution_count": 51,
   "id": "21c97c86-3d51-4eda-9f4c-85f2899d8616",
   "metadata": {},
   "outputs": [],
   "source": [
    "import pandas as pd\n",
    "from matplotlib import pyplot as plt\n",
    "import numpy as np"
   ]
  },
  {
   "cell_type": "code",
   "execution_count": null,
   "id": "eb5fb3ff-2d13-4dae-badf-1cda7b61fe01",
   "metadata": {},
   "outputs": [],
   "source": [
    "#GetHub url\n",
    "# https://github.com/RenM23/DataAnalytics_Project1"
   ]
  },
  {
   "cell_type": "code",
   "execution_count": 55,
   "id": "0e7b6f40-73ae-4f49-af17-d6d4abb1ee13",
   "metadata": {},
   "outputs": [],
   "source": [
    "#Problem Statement:\n",
    "#Has air pollution in the United States shown a significant trend over the period of 2000 \n",
    "#to 2013? \n",
    "#Sub-questions:  \n",
    "#Which states have the highest average air pollution over the period of 2000-2013?\n",
    "#Is there a clear upward or downward trend in air pollution levels within the states\n",
    "# with the highest pollution?\n",
    "#How does the trend of air pollution in the highest polluted states compare to the national\n",
    "# average over the same period?"
   ]
  },
  {
   "cell_type": "code",
   "execution_count": 5,
   "id": "c8f30b1c-e56b-4ce8-9e2d-f5f0c7c4697c",
   "metadata": {},
   "outputs": [
    {
     "name": "stdout",
     "output_type": "stream",
     "text": [
      "   MeasureId                                        MeasureName MeasureType  \\\n",
      "0         83  Number of days with maximum 8-hour average ozo...      Counts   \n",
      "1         83  Number of days with maximum 8-hour average ozo...      Counts   \n",
      "2         83  Number of days with maximum 8-hour average ozo...      Counts   \n",
      "3         83  Number of days with maximum 8-hour average ozo...      Counts   \n",
      "4         83  Number of days with maximum 8-hour average ozo...      Counts   \n",
      "\n",
      "  StratificationLevel  StateFips StateName  CountyFips CountyName  ReportYear  \\\n",
      "0      State x County          1   Alabama        1027       Clay        1999   \n",
      "1      State x County          1   Alabama        1051     Elmore        1999   \n",
      "2      State x County          1   Alabama        1073  Jefferson        1999   \n",
      "3      State x County          1   Alabama        1079   Lawrence        1999   \n",
      "4      State x County          1   Alabama        1089    Madison        1999   \n",
      "\n",
      "   Value      Unit  UnitName    DataOrigin  MonitorOnly  \n",
      "0   33.0  No Units  No Units  Monitor Only            1  \n",
      "1    5.0  No Units  No Units  Monitor Only            1  \n",
      "2   39.0  No Units  No Units  Monitor Only            1  \n",
      "3   28.0  No Units  No Units  Monitor Only            1  \n",
      "4   31.0  No Units  No Units  Monitor Only            1  \n"
     ]
    }
   ],
   "source": [
    "df = pd.read_csv('Air_Quality_Measures_on_the_National_Environmental_Health_Tracking_Network.csv')\n",
    "print(df.head())"
   ]
  },
  {
   "cell_type": "code",
   "execution_count": 7,
   "id": "15852671-61ae-46b1-9a4f-c680fff26684",
   "metadata": {},
   "outputs": [
    {
     "name": "stdout",
     "output_type": "stream",
     "text": [
      "(218635, 14)\n"
     ]
    }
   ],
   "source": [
    "print(df.shape)"
   ]
  },
  {
   "cell_type": "code",
   "execution_count": 9,
   "id": "e095b125-abab-4685-844f-b2f19175ea7f",
   "metadata": {},
   "outputs": [
    {
     "name": "stdout",
     "output_type": "stream",
     "text": [
      "['MeasureId', 'MeasureName', 'MeasureType', 'StratificationLevel', 'StateFips', 'StateName', 'CountyFips', 'CountyName', 'ReportYear', 'Value', 'Unit', 'UnitName', 'DataOrigin', 'MonitorOnly']\n"
     ]
    }
   ],
   "source": [
    "#View Column names\n",
    "print(df.columns.tolist())"
   ]
  },
  {
   "cell_type": "code",
   "execution_count": 11,
   "id": "7c80920b-8983-4b48-87dd-8411fed7e43b",
   "metadata": {},
   "outputs": [
    {
     "name": "stdout",
     "output_type": "stream",
     "text": [
      "        ReportYear      Unit      Value StateName\n",
      "0             1999  No Units  33.000000   Alabama\n",
      "1             1999  No Units   5.000000   Alabama\n",
      "2             1999  No Units  39.000000   Alabama\n",
      "3             1999  No Units  28.000000   Alabama\n",
      "4             1999  No Units  31.000000   Alabama\n",
      "...            ...       ...        ...       ...\n",
      "218630        2007     µg/m³   6.207126   Wyoming\n",
      "218631        2008     µg/m³   6.369764   Wyoming\n",
      "218632        2009     µg/m³   6.241708   Wyoming\n",
      "218633        2010     µg/m³   6.125957   Wyoming\n",
      "218634        2011     µg/m³   6.646464   Wyoming\n",
      "\n",
      "[218635 rows x 4 columns]\n"
     ]
    }
   ],
   "source": [
    "#Columns for use\n",
    "Columns = ['ReportYear', 'Unit', 'Value', 'StateName']\n",
    "df_selected = df[Columns]\n",
    "print(df_selected)"
   ]
  },
  {
   "cell_type": "code",
   "execution_count": 13,
   "id": "f7f8f96e-28fb-4452-aba4-63865871ea90",
   "metadata": {},
   "outputs": [
    {
     "name": "stdout",
     "output_type": "stream",
     "text": [
      "2013\n"
     ]
    }
   ],
   "source": [
    "#Find the most recent year this dataset has available\n",
    "most_recent_year = df['ReportYear'].max()\n",
    "print(most_recent_year)"
   ]
  },
  {
   "cell_type": "code",
   "execution_count": 15,
   "id": "0d16dbcf-5ae4-443f-8dea-ab07da67992a",
   "metadata": {},
   "outputs": [
    {
     "name": "stdout",
     "output_type": "stream",
     "text": [
      "1999\n"
     ]
    }
   ],
   "source": [
    "#Find the oldest year available\n",
    "oldest_year = df['ReportYear'].min()\n",
    "print(oldest_year)"
   ]
  },
  {
   "cell_type": "code",
   "execution_count": 17,
   "id": "fea34df4-bce4-46b1-96ec-0628df5865d8",
   "metadata": {},
   "outputs": [
    {
     "name": "stdout",
     "output_type": "stream",
     "text": [
      "       ReportYear   Unit      Value      StateName\n",
      "39218        2003  µg/m³  12.349080  West Virginia\n",
      "39219        2002  µg/m³  10.953455        Florida\n",
      "39220        1999  µg/m³  15.155819       Missouri\n",
      "39221        2001  µg/m³   8.272648        Montana\n",
      "39222        2006  µg/m³   9.553561        Florida\n"
     ]
    }
   ],
   "source": [
    "#Filter out Unit column to focus on only the mircograms per cubic meter measurement \"µg/m³\" unit\n",
    "unit_filtered_df = df_selected[df_selected['Unit'] == 'µg/m³']\n",
    "print(unit_filtered_df.head(5))"
   ]
  },
  {
   "cell_type": "code",
   "execution_count": 19,
   "id": "a345e32a-2a3b-471f-a28a-6e6ef86e6994",
   "metadata": {},
   "outputs": [
    {
     "name": "stdout",
     "output_type": "stream",
     "text": [
      "Missing values: \n",
      " ReportYear    0\n",
      "Unit          0\n",
      "Value         0\n",
      "StateName     0\n",
      "dtype: int64\n"
     ]
    }
   ],
   "source": [
    "#Check for missing values\n",
    "missing_values = unit_filtered_df.isnull().sum()\n",
    "print (\"Missing values: \\n\", missing_values)"
   ]
  },
  {
   "cell_type": "code",
   "execution_count": 21,
   "id": "c748cc44-50d1-4192-9b5b-0ed08149e28f",
   "metadata": {},
   "outputs": [
    {
     "name": "stdout",
     "output_type": "stream",
     "text": [
      "Number of duplicated rows:  0\n"
     ]
    }
   ],
   "source": [
    "#Check for duplicates\n",
    "duplicates =unit_filtered_df.duplicated().sum()\n",
    "print(\"Number of duplicated rows: \", duplicates)"
   ]
  },
  {
   "cell_type": "code",
   "execution_count": 23,
   "id": "f199bb01-e292-4e3d-ae86-48a18f3a28c4",
   "metadata": {},
   "outputs": [
    {
     "data": {
      "image/png": "[encoded data removed]",
      "text/plain": [
       "<Figure size 640x480 with 1 Axes>"
      ]
     },
     "metadata": {},
     "output_type": "display_data"
    }
   ],
   "source": [
    "#Check for outliers\n",
    "unit_filtered_df.boxplot(column = 'Value') \n",
    "plt.show()"
   ]
  },
  {
   "cell_type": "code",
   "execution_count": 25,
   "id": "49d31e95-e30f-482c-bdc4-3826b3490634",
   "metadata": {},
   "outputs": [
    {
     "name": "stdout",
     "output_type": "stream",
     "text": [
      "        ReportYear   Unit      Value      StateName\n",
      "39218         2003  µg/m³  12.349080  West Virginia\n",
      "39219         2002  µg/m³  10.953455        Florida\n",
      "39220         1999  µg/m³  15.155819       Missouri\n",
      "39221         2001  µg/m³   8.272648        Montana\n",
      "39222         2006  µg/m³   9.553561        Florida\n",
      "...            ...    ...        ...            ...\n",
      "218630        2007  µg/m³   6.207126        Wyoming\n",
      "218631        2008  µg/m³   6.369764        Wyoming\n",
      "218632        2009  µg/m³   6.241708        Wyoming\n",
      "218633        2010  µg/m³   6.125957        Wyoming\n",
      "218634        2011  µg/m³   6.646464        Wyoming\n",
      "\n",
      "[42620 rows x 4 columns]\n"
     ]
    }
   ],
   "source": [
    "#Fix the outlier in  Value column\n",
    "df_nooutlier = unit_filtered_df[unit_filtered_df['Value']<35]\n",
    "print(df_nooutlier)"
   ]
  },
  {
   "cell_type": "code",
   "execution_count": 27,
   "id": "541012ef-2222-4147-99bd-53f4727d57c5",
   "metadata": {},
   "outputs": [
    {
     "name": "stdout",
     "output_type": "stream",
     "text": [
      "        ReportYear   Unit      Value   StateName\n",
      "41634         2001  µg/m³  30.951858  California\n",
      "186515        2001  µg/m³  30.344952  California\n",
      "44060         1999  µg/m³  30.201011  California\n",
      "40722         2000  µg/m³  28.300266  California\n",
      "40001         1999  µg/m³  27.710583  California\n"
     ]
    }
   ],
   "source": [
    "#Check if outliers were omitted\n",
    "check_omited = df_nooutlier.sort_values(by = 'Value', ascending=False).head(5)\n",
    "print(check_omited)"
   ]
  },
  {
   "cell_type": "code",
   "execution_count": 29,
   "id": "bbc2845d-e3a5-4247-b6b0-9a8a2988cc4d",
   "metadata": {},
   "outputs": [
    {
     "name": "stdout",
     "output_type": "stream",
     "text": [
      "10.756282698172381\n"
     ]
    }
   ],
   "source": [
    "#View the average Values with Units of 'µg/m³'\n",
    "average_value = df_nooutlier['Value'].mean()\n",
    "print(average_value)"
   ]
  },
  {
   "cell_type": "code",
   "execution_count": 31,
   "id": "7865aa58-1219-4660-87bf-9c0f14f87678",
   "metadata": {},
   "outputs": [
    {
     "name": "stdout",
     "output_type": "stream",
     "text": [
      "StateName\n",
      "Alabama                 12.660399\n",
      "Alaska                   7.767187\n",
      "Arizona                  8.289107\n",
      "Arkansas                11.671381\n",
      "California              11.681602\n",
      "Colorado                 6.618121\n",
      "Connecticut             11.157422\n",
      "Delaware                12.715068\n",
      "District of Columbia    13.679617\n",
      "Florida                  9.452341\n",
      "Georgia                 12.789647\n",
      "Hawaii                   4.756838\n",
      "Idaho                    8.295204\n",
      "Illinois                12.692880\n",
      "Indiana                 13.741218\n",
      "Iowa                    10.564232\n",
      "Kansas                   9.468404\n",
      "Kentucky                12.831368\n",
      "Louisiana               11.149758\n",
      "Maine                    8.569217\n",
      "Maryland                12.916043\n",
      "Massachusetts           10.602896\n",
      "Michigan                10.360120\n",
      "Minnesota                9.434254\n",
      "Mississippi             11.341857\n",
      "Missouri                11.314903\n",
      "Montana                  7.378197\n",
      "Nebraska                 8.332123\n",
      "Nevada                   7.429975\n",
      "New Hampshire            9.184797\n",
      "New Jersey              12.212783\n",
      "New Mexico               6.673443\n",
      "New York                10.665179\n",
      "North Carolina          11.914066\n",
      "North Dakota             7.366057\n",
      "Ohio                    13.968092\n",
      "Oklahoma                10.078197\n",
      "Oregon                   8.718739\n",
      "Pennsylvania            13.042702\n",
      "Rhode Island             9.968140\n",
      "South Carolina          12.443175\n",
      "South Dakota             7.892030\n",
      "Tennessee               12.490364\n",
      "Texas                    9.004076\n",
      "Utah                     8.600331\n",
      "Vermont                  8.951471\n",
      "Virginia                11.715679\n",
      "Washington               8.714008\n",
      "West Virginia           12.747054\n",
      "Wisconsin               10.292232\n",
      "Wyoming                  6.665748\n",
      "Name: Value, dtype: float64\n"
     ]
    }
   ],
   "source": [
    "#Get the average Value where Units = µg/m³ per state\n",
    "average_per_state = df_nooutlier.groupby('StateName')['Value'].mean()\n",
    "print(average_per_state)"
   ]
  },
  {
   "cell_type": "code",
   "execution_count": 33,
   "id": "f1d3ac7f-7d99-479d-8cb9-93a9e36a0c6b",
   "metadata": {},
   "outputs": [
    {
     "name": "stdout",
     "output_type": "stream",
     "text": [
      "StateName\n",
      "Ohio                    13.97\n",
      "Indiana                 13.74\n",
      "District of Columbia    13.68\n",
      "Pennsylvania            13.04\n",
      "Maryland                12.92\n",
      "Name: Value, dtype: float64\n"
     ]
    }
   ],
   "source": [
    "#Print out the top 5 states with the highest average Value of all time\n",
    "top_5_states = average_per_state.sort_values(ascending=False).head(5)\n",
    "top_5_states = top_5_states.round(2)\n",
    "print(top_5_states)"
   ]
  },
  {
   "cell_type": "code",
   "execution_count": 35,
   "id": "a6bf9a8e-ce65-4816-99cd-9d2519e668c6",
   "metadata": {},
   "outputs": [
    {
     "name": "stdout",
     "output_type": "stream",
     "text": [
      "StateName\n",
      "District of Columbia    16.66\n",
      "Indiana                 15.93\n",
      "Maryland                15.69\n",
      "Ohio                    17.41\n",
      "Pennsylvania            14.95\n",
      "Name: Value, dtype: float64\n"
     ]
    }
   ],
   "source": [
    "#Find the average pollution value of top 5 states where Report year = 2000\n",
    "states_of_interest = ['Ohio', 'Indiana', 'District of Columbia', 'Pennsylvania', 'Maryland']\n",
    "\n",
    "df_filtered = df_nooutlier[(df_nooutlier['StateName'].isin(states_of_interest))&(df_nooutlier['ReportYear']==2000)]\n",
    "\n",
    "average_pollution_2000 = df_filtered.groupby('StateName')['Value'].mean()\n",
    "average_pollution_2000 = average_pollution_2000.round(2)\n",
    "\n",
    "print(average_pollution_2000)"
   ]
  },
  {
   "cell_type": "code",
   "execution_count": 37,
   "id": "5098d24f-df55-4a56-9312-214abd8c7ede",
   "metadata": {},
   "outputs": [
    {
     "name": "stdout",
     "output_type": "stream",
     "text": [
      "StateName\n",
      "District of Columbia    15.14\n",
      "Indiana                 13.65\n",
      "Maryland                14.13\n",
      "Ohio                    14.26\n",
      "Pennsylvania            13.88\n",
      "Name: Value, dtype: float64\n"
     ]
    }
   ],
   "source": [
    "#Find the average pollution value of top 5 states of all time where Report year = 2004\n",
    "df_filtered = df_nooutlier[(df_nooutlier['StateName'].isin(states_of_interest))&(df_nooutlier['ReportYear']==2004)]\n",
    "\n",
    "average_pollution_2004 = df_filtered.groupby('StateName')['Value'].mean()\n",
    "average_pollution_2004 = average_pollution_2004.round(2)\n",
    "\n",
    "print(average_pollution_2004)"
   ]
  },
  {
   "cell_type": "code",
   "execution_count": 39,
   "id": "09a9f758-b462-4dfa-bf80-81b3edfd6f09",
   "metadata": {},
   "outputs": [
    {
     "name": "stdout",
     "output_type": "stream",
     "text": [
      "StateName\n",
      "District of Columbia    10.70\n",
      "Indiana                 11.94\n",
      "Maryland                10.39\n",
      "Ohio                    12.10\n",
      "Pennsylvania            10.70\n",
      "Name: Value, dtype: float64\n"
     ]
    }
   ],
   "source": [
    "#Find the average pollution value of top 5 states of all time where Report year = 2009\n",
    "df_filtered = df_nooutlier[(df_nooutlier['StateName'].isin(states_of_interest))&(df_nooutlier['ReportYear']==2009)]\n",
    "\n",
    "average_pollution_2009 = df_filtered.groupby('StateName')['Value'].mean()\n",
    "average_pollution_2009 = average_pollution_2009.round(2)\n",
    "\n",
    "print(average_pollution_2009)"
   ]
  },
  {
   "cell_type": "code",
   "execution_count": 41,
   "id": "a8e62d13-b5e2-4682-995e-247e2e504554",
   "metadata": {},
   "outputs": [
    {
     "name": "stdout",
     "output_type": "stream",
     "text": [
      "StateName\n",
      "District of Columbia     9.30\n",
      "Indiana                 10.19\n",
      "Maryland                 8.99\n",
      "Ohio                    10.18\n",
      "Pennsylvania            10.51\n",
      "Name: Value, dtype: float64\n"
     ]
    }
   ],
   "source": [
    "#Find the average pollution value of top 5 states of all time where Report year = 2013\n",
    "df_filtered = df_nooutlier[(df_nooutlier['StateName'].isin(states_of_interest))&(df_nooutlier['ReportYear']==2013)]\n",
    "\n",
    "average_pollution_2013 = df_filtered.groupby('StateName')['Value'].mean()\n",
    "average_pollution_2013 = average_pollution_2013.round(2)\n",
    "\n",
    "print(average_pollution_2013)"
   ]
  },
  {
   "cell_type": "code",
   "execution_count": 43,
   "id": "3185dc42-387d-43ec-97ac-bfefd0480b48",
   "metadata": {},
   "outputs": [
    {
     "name": "stdout",
     "output_type": "stream",
     "text": [
      "report year: 20\n",
      "state name: 20\n",
      "value: 20\n"
     ]
    }
   ],
   "source": [
    "#Seleted data into dataframe\n",
    "data = {\n",
    "    'ReportYear': [2000, 2000, 2000, 2000, 2000, 2004, 2004, 2004, 2004, 2004, 2009, 2009, 2009, 2009, 2009, 2013, 2013, 2013, 2013, 2013],\n",
    "    'StateName': ['District of Columbia', 'Indiana', 'Ohio', 'Pennsylvania', 'Maryland', 'District of Columbia', 'Indiana', 'Ohio', 'Pennsylvania', 'Maryland', 'District of Columbia', 'Indiana', 'Ohio', 'Pennsylvania', 'Maryland', 'District of Columbia', 'Indiana', 'Ohio', 'Pennsylvania', 'Maryland'],\n",
    "    'Value': [16.66, 15.93, 17.41, 14.95, 15.69, 15.14, 13.65, 14.26, 13.88, 14.13, 10.70, 11.94, 12.10, 10.70, 10.39, 9.30, 10.19, 10.18, 10.51, 8.99]\n",
    "    }\n",
    "print(\"report year:\", len(data['ReportYear'])) \n",
    "print(\"state name:\",len(data['StateName']))   \n",
    "print(\"value:\",len(data['Value']))       \n"
   ]
  },
  {
   "cell_type": "code",
   "execution_count": 45,
   "id": "53ba5481-e81c-4f5f-8c21-4b7fe47079d0",
   "metadata": {},
   "outputs": [],
   "source": [
    "#Create data frame\n",
    "df = pd.DataFrame(data)\n"
   ]
  },
  {
   "cell_type": "code",
   "execution_count": 47,
   "id": "cf6284f5-ad94-4583-9692-a19278cb46ab",
   "metadata": {},
   "outputs": [
    {
     "name": "stdout",
     "output_type": "stream",
     "text": [
      "StateName   District of Columbia  Indiana  Maryland   Ohio  Pennsylvania\n",
      "ReportYear                                                              \n",
      "2000                       16.66    15.93     15.69  17.41         14.95\n",
      "2004                       15.14    13.65     14.13  14.26         13.88\n",
      "2009                       10.70    11.94     10.39  12.10         10.70\n",
      "2013                        9.30    10.19      8.99  10.18         10.51\n"
     ]
    }
   ],
   "source": [
    "#Create pivot table\n",
    "df_pivot = df.pivot(index='ReportYear', columns='StateName', values='Value')\n",
    "print(df_pivot)"
   ]
  },
  {
   "cell_type": "code",
   "execution_count": 49,
   "id": "8413fe9e-2b68-4349-ba27-cef7bedf1cc8",
   "metadata": {},
   "outputs": [],
   "source": [
    "#Create Grouped bar plot x axis = ReportYear\n",
    "x_axis = np.arange(len(df_pivot.index))\n",
    "width = 0.15"
   ]
  },
  {
   "cell_type": "code",
   "execution_count": 53,
   "id": "7dbcc132-df19-46cc-a1bf-ab3a0f1ec515",
   "metadata": {},
   "outputs": [
    {
     "data": {
      "image/png": "[encoded data removed]",
      "text/plain": [
       "<Figure size 1000x600 with 1 Axes>"
      ]
     },
     "metadata": {},
     "output_type": "display_data"
    }
   ],
   "source": [
    "#Create grouped bar chart\n",
    "plt.figure(figsize=(10, 6))\n",
    "\n",
    "plt.bar(x_axis, df_pivot['District of Columbia'], width=width, label='District of Columbia')\n",
    "plt.bar(x_axis + width, df_pivot['Indiana'], width=width, label='Indiana')\n",
    "plt.bar(x_axis + 2*width, df_pivot['Ohio'], width=width, label='Ohio')\n",
    "plt.bar(x_axis +3*width, df_pivot['Pennsylvania'], width=width, label='Pennsylvania')\n",
    "plt.bar(x_axis +4*width, df_pivot['Maryland'], width=width, label='Maryland')\n",
    "\n",
    "plt.xticks(x_axis + 2*width, df_pivot.index)\n",
    "plt.xlabel('Report Year')\n",
    "plt.ylabel('Air Pollution per µg/m³')\n",
    "plt.title('Average Air Pollution per Year for States with Highest Pollution')\n",
    "\n",
    "plt.legend(title='State')\n",
    "\n",
    "plt.ylim(0, 20)\n",
    "plt.show()"
   ]
  },
  {
   "cell_type": "code",
   "execution_count": null,
   "id": "2517c51c-7367-4462-bf3a-2ced4813b86c",
   "metadata": {},
   "outputs": [],
   "source": [
    "#Summary:\n",
    "#The graph displays the average air pollution levels (measured in micrograms per cubic meter)\n",
    "#for five states that have the highest average air pollution over the years 2000-2013. \n",
    "#These states include: The District of Columbia, Indiana, Ohio, Pennsylvania, and Maryland.\n",
    "#A clear downward trend in air pollution is evident across all sates over the 13-year period.\n",
    "#In the year 2000, pollution levels were above 15 µg/m³ for most states, with Ohio having the\n",
    "#highest level at over 17 µg/m³. By 2013 air pollution levels had significantly decreased for\n",
    "#all states, with none exceeding 12 µg/m³."
   ]
  }
 ],
 "metadata": {
  "kernelspec": {
   "display_name": "Python 3 (ipykernel)",
   "language": "python",
   "name": "python3"
  },
  "language_info": {
   "codemirror_mode": {
    "name": "ipython",
    "version": 3
   },
   "file_extension": ".py",
   "mimetype": "text/x-python",
   "name": "python",
   "nbconvert_exporter": "python",
   "pygments_lexer": "ipython3",
   "version": "3.12.4"
  }
 },
 "nbformat": 4,
 "nbformat_minor": 5
}
